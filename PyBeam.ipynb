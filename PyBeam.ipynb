{
 "cells": [
  {
   "cell_type": "markdown",
   "metadata": {},
   "source": [
    "# PyBeam\n",
    "##### A simple beam analysis program written by Andrew Coulson"
   ]
  },
  {
   "cell_type": "code",
   "execution_count": 1,
   "metadata": {},
   "outputs": [],
   "source": [
    "# Import all packages and classes needed\n",
    "from ipywidgets import widgets\n",
    "from IPython.display import display\n",
    "from IPython.display import Javascript\n",
    "from IPython.display import Image\n",
    "#from ipycanvas import MultiCanvas\n",
    "from class_module import *\n",
    "from graphics import *\n",
    "import matplotlib.pyplot as plt\n",
    "import csv\n",
    "\n",
    "cls = set()\n",
    "dls = set()\n",
    "cms = set()\n",
    "spt = set()"
   ]
  },
  {
   "cell_type": "markdown",
   "metadata": {},
   "source": [
    "### Set Beam Length\n",
    "Use the text box to set or update the beam length."
   ]
  },
  {
   "cell_type": "code",
   "execution_count": 2,
   "metadata": {},
   "outputs": [
    {
     "data": {
      "application/vnd.jupyter.widget-view+json": {
       "model_id": "84d3331d3f864133944aec01ff8b17a7",
       "version_major": 2,
       "version_minor": 0
      },
      "text/plain": [
       "Text(value='', description='Beam Length:')"
      ]
     },
     "metadata": {},
     "output_type": "display_data"
    }
   ],
   "source": [
    "# Handles beam length input\n",
    "length = widgets.Text(description = 'Beam Length:')\n",
    "display(length)\n",
    "\n",
    "def handle_length_input(sender):\n",
    "    print( \"The new Beam Length is: \", length.value )\n",
    "    #display(Javascript(\"Jupyter.notebook.execute_cells([6])\"))\n",
    "\n",
    "length.on_submit( handle_length_input )"
   ]
  },
  {
   "cell_type": "markdown",
   "metadata": {},
   "source": [
    "### Add Beam Elements"
   ]
  },
  {
   "cell_type": "code",
   "execution_count": 3,
   "metadata": {},
   "outputs": [
    {
     "data": {
      "application/vnd.jupyter.widget-view+json": {
       "model_id": "24606331585b432a9d9ce3975b7883ef",
       "version_major": 2,
       "version_minor": 0
      },
      "text/plain": [
       "Dropdown(description='Type:', options=('Concentrated Load', 'Distributed Load', 'Concentrated Moment', 'Pinned…"
      ]
     },
     "metadata": {},
     "output_type": "display_data"
    }
   ],
   "source": [
    "# Handles element selection list\n",
    "element_type = widgets.Dropdown(\n",
    "    options=['Concentrated Load', 'Distributed Load', 'Concentrated Moment', 'Pinned Support', 'Roller Support', 'Fixed Support'],\n",
    "    value='Concentrated Load',\n",
    "    description='Type:',\n",
    ")\n",
    "\n",
    "def on_change(change):\n",
    "    if change['type'] == 'change' and change['name'] == 'value':\n",
    "        display(Javascript(\"Jupyter.notebook.execute_cells([6])\"))\n",
    "\n",
    "element_type.observe(on_change)\n",
    "display(element_type)"
   ]
  },
  {
   "cell_type": "code",
   "execution_count": 4,
   "metadata": {
    "scrolled": true
   },
   "outputs": [
    {
     "data": {
      "application/vnd.jupyter.widget-view+json": {
       "model_id": "4ae17b71651b49908ca7b0c89cd045f6",
       "version_major": 2,
       "version_minor": 0
      },
      "text/plain": [
       "Text(value='', description='Position: ')"
      ]
     },
     "metadata": {},
     "output_type": "display_data"
    },
    {
     "data": {
      "application/vnd.jupyter.widget-view+json": {
       "model_id": "e858c40ddaf9438e8adf576d10689352",
       "version_major": 2,
       "version_minor": 0
      },
      "text/plain": [
       "Text(value='', description='Magnitude: ')"
      ]
     },
     "metadata": {},
     "output_type": "display_data"
    },
    {
     "data": {
      "application/vnd.jupyter.widget-view+json": {
       "model_id": "5cf1317a55d54254a6230e50d76875e9",
       "version_major": 2,
       "version_minor": 0
      },
      "text/plain": [
       "Button(description='Add Element', style=ButtonStyle())"
      ]
     },
     "metadata": {},
     "output_type": "display_data"
    }
   ],
   "source": [
    "# Handles input of beam elements\n",
    "x = widgets.Text(description = 'Position: ')\n",
    "start = widgets.Text(description = 'Load Start: ')\n",
    "end = widgets.Text(description = 'Load End: ')\n",
    "start_magnitude = widgets.Text(description = 'Start Mag: ')\n",
    "end_magnitude = widgets.Text(description = 'End Mag: ')\n",
    "magnitude = widgets.Text(description = 'Magnitude: ')\n",
    "submit = widgets.Button(description=\"Add Element\")\n",
    "\n",
    "if element_type.value == 'Concentrated Load':\n",
    "    display(x)\n",
    "    display(magnitude)\n",
    "    display(submit)\n",
    "\n",
    "    def on_button_clicked(b):\n",
    "        if not x.value == '' and not magnitude.value == '':\n",
    "            cls.add( ConcentratedLoad( float(magnitude.value), float(x.value) ) )\n",
    "            display(Javascript(\"Jupyter.notebook.execute_cells([10])\"))\n",
    "        else:\n",
    "            print(\"Please fill all fields.\")\n",
    "\n",
    "    submit.on_click(on_button_clicked)\n",
    "\n",
    "elif element_type.value == 'Distributed Load':\n",
    "    display(start)\n",
    "    display(start_magnitude)\n",
    "    display(end)\n",
    "    display(end_magnitude)\n",
    "    display(submit)\n",
    "    \n",
    "    def on_button_clicked(b):\n",
    "        if not start.value == '' and not end.value == '' and not start_magnitude.value == '' and not end_magnitude.value =='':\n",
    "            dls.add( DistributedLoad( float(start.value), float(end.value), float(start_magnitude.value), float(end_magnitude.value) ) )\n",
    "            display(Javascript(\"Jupyter.notebook.execute_cells([10])\"))\n",
    "        else:\n",
    "            print(\"Please fill all fields.\")\n",
    "    \n",
    "    submit.on_click(on_button_clicked)\n",
    "\n",
    "elif element_type.value == 'Concentrated Moment':\n",
    "    display(x)\n",
    "    display(magnitude)\n",
    "    display(submit)\n",
    "    \n",
    "    def on_button_clicked(b):\n",
    "        if not x.value == '' and not magnitude.value == '':\n",
    "            cms.add( ConcentratedMoment( float(x.value), float(magnitude.value) ) )\n",
    "            display(Javascript(\"Jupyter.notebook.execute_cells([10])\"))\n",
    "        else:\n",
    "            print(\"Please fill all fields.\")\n",
    "            \n",
    "    submit.on_click(on_button_clicked)\n",
    "\n",
    "elif element_type.value == 'Pinned Support':\n",
    "    display(x)\n",
    "    display(submit)\n",
    "    \n",
    "    def on_button_clicked(b):\n",
    "        if not x.value == '':\n",
    "            spt.add( Pinned( float(x.value) ) )\n",
    "            display(Javascript(\"Jupyter.notebook.execute_cells([10])\"))\n",
    "        else:\n",
    "            print(\"Please fill all fields.\")\n",
    "    \n",
    "    submit.on_click(on_button_clicked)\n",
    "\n",
    "elif element_type.value == 'Roller Support':\n",
    "    display(x)\n",
    "    display(submit)\n",
    "    \n",
    "    def on_button_clicked(b):\n",
    "        if not x.value == '':\n",
    "            spt.add( Roller( float(x.value) ) )\n",
    "            display(Javascript(\"Jupyter.notebook.execute_cells([10])\"))\n",
    "        else:\n",
    "            print(\"Please fill all fields.\")\n",
    "    \n",
    "    submit.on_click(on_button_clicked)\n",
    "    \n",
    "elif element_type.value == 'Fixed Support':\n",
    "    display(x)\n",
    "    display(submit)\n",
    "    \n",
    "    def on_button_clicked(b):\n",
    "        if not x.value == '':\n",
    "            spt.add( Fixed( float(x.value) ) )\n",
    "            display(Javascript(\"Jupyter.notebook.execute_cells([10])\"))\n",
    "        else:\n",
    "            print(\"Please fill all fields.\")\n",
    "    \n",
    "    submit.on_click(on_button_clicked)\n",
    "    \n",
    "else:\n",
    "    print('This element type is not yet supported.')"
   ]
  },
  {
   "cell_type": "code",
   "execution_count": null,
   "metadata": {},
   "outputs": [],
   "source": [
    "# Helper methods\n",
    "def sum_forces_vert():\n",
    "    sum_vert = 0\n",
    "    for load in cls:\n",
    "        sum_vert += load.get_magniude()\n",
    "    for load in dls:\n",
    "        sum_vert += load.get_total_load()\n",
    "    return sum_vert\n",
    "\n",
    "def sum_moments_left(x):\n",
    "    sum_left = 0\n",
    "    for load in cls:\n",
    "        sum_left += load.get_magnitude() * (load.get_position() - x)\n",
    "    for load in dls:\n",
    "        sum_left +=load.get_total_load() * ()"
   ]
  },
  {
   "cell_type": "markdown",
   "metadata": {},
   "source": [
    "### Beam Preview"
   ]
  },
  {
   "cell_type": "markdown",
   "metadata": {},
   "source": [
    "This cell will contain a preview of the beam."
   ]
  },
  {
   "cell_type": "markdown",
   "metadata": {},
   "source": [
    "### Shear Diagram"
   ]
  },
  {
   "cell_type": "code",
   "execution_count": 5,
   "metadata": {},
   "outputs": [
    {
     "name": "stdout",
     "output_type": "stream",
     "text": [
      "Not a pin and roller.\n"
     ]
    }
   ],
   "source": [
    "def pin_and_roller():\n",
    "    if not len(spt) == 0:\n",
    "        pin = Pinned(None)\n",
    "        roller = Roller(None)\n",
    "\n",
    "        for item in spt:\n",
    "            if item.get_type() == 'Pinned':\n",
    "                pin = item\n",
    "            else:\n",
    "                roller = item\n",
    "\n",
    "        print(pin.get_position())\n",
    "        print(roller.get_position())\n",
    "    else:\n",
    "        print(\"Not a pin and roller.\")\n",
    "        \n",
    "    coef = [[0, 0, roller.get_position()], [0, 1, 1], [1, 0, 0]]\n",
    "pin_and_roller()"
   ]
  },
  {
   "cell_type": "markdown",
   "metadata": {},
   "source": [
    "### Test Cell"
   ]
  },
  {
   "cell_type": "code",
   "execution_count": 6,
   "metadata": {},
   "outputs": [
    {
     "name": "stdout",
     "output_type": "stream",
     "text": [
      "No Fixed Supports.\n"
     ]
    }
   ],
   "source": [
    "if not len(spt) == 0:\n",
    "    print( \"The position of the current element is: \", spt[0].get_position() )\n",
    "else:\n",
    "    print( \"No Fixed Supports.\" )"
   ]
  },
  {
   "cell_type": "code",
   "execution_count": 7,
   "metadata": {},
   "outputs": [
    {
     "data": {
      "text/html": [
       "<script>\n",
       "code_show=true; \n",
       "function code_toggle() {\n",
       "    if (code_show){\n",
       "    $('div.input').hide();\n",
       "    } else {\n",
       "    $('div.input').show();\n",
       "    }\n",
       "    code_show = !code_show\n",
       "} \n",
       "$( document ).ready(code_toggle);\n",
       "</script>\n",
       "<form action=\"javascript:code_toggle()\"><input type=\"submit\" value=\"Developer Button\"></form>"
      ],
      "text/plain": [
       "<IPython.core.display.HTML object>"
      ]
     },
     "execution_count": 7,
     "metadata": {},
     "output_type": "execute_result"
    }
   ],
   "source": [
    "from IPython.display import HTML\n",
    "HTML('''<script>\n",
    "code_show=true; \n",
    "function code_toggle() {\n",
    "    if (code_show){\n",
    "    $('div.input').hide();\n",
    "    } else {\n",
    "    $('div.input').show();\n",
    "    }\n",
    "    code_show = !code_show\n",
    "} \n",
    "$( document ).ready(code_toggle);\n",
    "</script>\n",
    "<form action=\"javascript:code_toggle()\"><input type=\"submit\" value=\"Developer Button\"></form>''')"
   ]
  },
  {
   "cell_type": "code",
   "execution_count": null,
   "metadata": {},
   "outputs": [],
   "source": []
  }
 ],
 "metadata": {
  "kernelspec": {
   "display_name": "Python 3",
   "language": "python",
   "name": "python3"
  },
  "language_info": {
   "codemirror_mode": {
    "name": "ipython",
    "version": 3
   },
   "file_extension": ".py",
   "mimetype": "text/x-python",
   "name": "python",
   "nbconvert_exporter": "python",
   "pygments_lexer": "ipython3",
   "version": "3.7.4"
  }
 },
 "nbformat": 4,
 "nbformat_minor": 4
}
