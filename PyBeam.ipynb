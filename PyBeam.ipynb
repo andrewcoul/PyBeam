{
 "cells": [
  {
   "cell_type": "markdown",
   "metadata": {},
   "source": [
    "# PyBeam\n",
    "##### A simple beam analysis program written by Andrew Coulson"
   ]
  },
  {
   "cell_type": "code",
   "execution_count": 1,
   "metadata": {},
   "outputs": [],
   "source": [
    "# Import all packages and classes needed\n",
    "from ipywidgets import widgets\n",
    "from IPython.display import display\n",
    "from IPython.display import Javascript\n",
    "#from ipycanvas import MultiCanvas\n",
    "from class_module import *\n",
    "import matplotlib.pyplot as plt\n",
    "import csv\n",
    "\n",
    "cls = []\n",
    "dls = []\n",
    "cms = []\n",
    "spt = []"
   ]
  },
  {
   "cell_type": "markdown",
   "metadata": {},
   "source": [
    "### Set Beam Length\n",
    "Use the text box to set or update the beam length."
   ]
  },
  {
   "cell_type": "code",
   "execution_count": 2,
   "metadata": {},
   "outputs": [
    {
     "data": {
      "application/vnd.jupyter.widget-view+json": {
       "model_id": "b79bd2c947834b95a73157723e3aed65",
       "version_major": 2,
       "version_minor": 0
      },
      "text/plain": [
       "Text(value='')"
      ]
     },
     "metadata": {},
     "output_type": "display_data"
    }
   ],
   "source": [
    "# @hidden_cell\n",
    "length = widgets.Text()\n",
    "display(length)\n",
    "\n",
    "def handle_length_input(sender):\n",
    "    print( \"The new Beam Length is: \", length.value )\n",
    "    #display(Javascript(\"Jupyter.notebook.execute_cells([6])\"))\n",
    "\n",
    "length.on_submit( handle_length_input )"
   ]
  },
  {
   "cell_type": "markdown",
   "metadata": {},
   "source": [
    "### Add Beam Elements"
   ]
  },
  {
   "cell_type": "code",
   "execution_count": 3,
   "metadata": {},
   "outputs": [
    {
     "data": {
      "application/vnd.jupyter.widget-view+json": {
       "model_id": "0384ba53da524d43a93099db946a70f8",
       "version_major": 2,
       "version_minor": 0
      },
      "text/plain": [
       "Dropdown(description='Type:', options=('Concentrated Load', 'Distributed Load', 'Concentrated Moment', 'Pinned…"
      ]
     },
     "metadata": {},
     "output_type": "display_data"
    },
    {
     "data": {
      "application/javascript": [
       "Jupyter.notebook.execute_cells([6])"
      ],
      "text/plain": [
       "<IPython.core.display.Javascript object>"
      ]
     },
     "metadata": {},
     "output_type": "display_data"
    }
   ],
   "source": [
    "element_type = widgets.Dropdown(\n",
    "    options=['Concentrated Load', 'Distributed Load', 'Concentrated Moment', 'Pinned Support', 'Roller Support', 'Fixed Support'],\n",
    "    value='Concentrated Load',\n",
    "    description='Type:',\n",
    ")\n",
    "\n",
    "def on_change(change):\n",
    "    if change['type'] == 'change' and change['name'] == 'value':\n",
    "        display(Javascript(\"Jupyter.notebook.execute_cells([6])\"))\n",
    "\n",
    "element_type.observe(on_change)\n",
    "display(element_type)"
   ]
  },
  {
   "cell_type": "code",
   "execution_count": 7,
   "metadata": {
    "scrolled": true
   },
   "outputs": [
    {
     "data": {
      "application/vnd.jupyter.widget-view+json": {
       "model_id": "e2d1b9b40ca646219955e91b0d3be70c",
       "version_major": 2,
       "version_minor": 0
      },
      "text/plain": [
       "Text(value='', description='Position: ')"
      ]
     },
     "metadata": {},
     "output_type": "display_data"
    },
    {
     "data": {
      "application/vnd.jupyter.widget-view+json": {
       "model_id": "5d42c08449df41a4af8382a85559dd2f",
       "version_major": 2,
       "version_minor": 0
      },
      "text/plain": [
       "Text(value='', description='Magnitude: ')"
      ]
     },
     "metadata": {},
     "output_type": "display_data"
    },
    {
     "data": {
      "application/vnd.jupyter.widget-view+json": {
       "model_id": "6393c6b9143443a0bcf3c64f74f75ee5",
       "version_major": 2,
       "version_minor": 0
      },
      "text/plain": [
       "Button(description='Add Element', style=ButtonStyle())"
      ]
     },
     "metadata": {},
     "output_type": "display_data"
    },
    {
     "data": {
      "application/javascript": [
       "Jupyter.notebook.execute_cells([8])"
      ],
      "text/plain": [
       "<IPython.core.display.Javascript object>"
      ]
     },
     "metadata": {},
     "output_type": "display_data"
    }
   ],
   "source": [
    "x = widgets.Text(description = 'Position: ')\n",
    "start = widgets.Text(description = 'Load Start: ')\n",
    "end = widgets.Text(description = 'Load End: ')\n",
    "start_magnitude = widgets.Text(description = 'Start Mag: ')\n",
    "end_magnitude = widgets.Text(description = 'End Mag: ')\n",
    "magnitude = widgets.Text(description = 'Magnitude: ')\n",
    "submit = widgets.Button(description=\"Add Element\")\n",
    "\n",
    "if element_type.value == 'Concentrated Load':\n",
    "    display(x)\n",
    "    display(magnitude)\n",
    "    display(submit)\n",
    "\n",
    "    def on_button_clicked(b):\n",
    "        if not x.value == '' and not magnitude.value == '':\n",
    "            cls.append( ConcentratedLoad( float(magnitude.value), float(x.value) ) )\n",
    "            display(Javascript(\"Jupyter.notebook.execute_cells([8])\"))\n",
    "        else:\n",
    "            print(\"Please fill all fields.\")\n",
    "\n",
    "    submit.on_click(on_button_clicked)\n",
    "\n",
    "elif element_type.value == 'Distributed Load':\n",
    "    display(start)\n",
    "    display(start_magnitude)\n",
    "    display(end)\n",
    "    display(end_magnitude)\n",
    "    display(submit)\n",
    "    \n",
    "    def on_button_clicked(b):\n",
    "        if not start.value == '' and not end.value == '' and not start_magnitude.value == '' and not end_magnitude.value =='':\n",
    "            dls.append( DistributedLoad( float(start.value), float(end.value), float(start_magnitude.value), float(end_magnitude.value) ) )\n",
    "            display(Javascript(\"Jupyter.notebook.execute_cells([8])\"))\n",
    "        else:\n",
    "            print(\"Please fill all fields.\")\n",
    "    \n",
    "    submit.on_click(on_button_clicked)\n",
    "\n",
    "elif element_type.value == 'Concentrated Moment':\n",
    "    display(x)\n",
    "    display(magnitude)\n",
    "    display(submit)\n",
    "    \n",
    "    def on_button_clicked(b):\n",
    "        if not x.value == '' and not magnitude.value == '':\n",
    "            cms.append( ConcentratedMoment( float(x.value), float(magnitude.value) ) )\n",
    "            display(Javascript(\"Jupyter.notebook.execute_cells([8])\"))\n",
    "        else:\n",
    "            print(\"Please fill all fields.\")\n",
    "            \n",
    "    submit.on_click(on_button_clicked)\n",
    "    \n",
    "else:\n",
    "    print('This element type is not yet supported.')"
   ]
  },
  {
   "cell_type": "markdown",
   "metadata": {},
   "source": [
    "### Test Cell"
   ]
  },
  {
   "cell_type": "code",
   "execution_count": 8,
   "metadata": {},
   "outputs": [
    {
     "name": "stdout",
     "output_type": "stream",
     "text": [
      "The position of the current element is:  5.0\n",
      "The magnitude of the current element is:  7.0\n"
     ]
    }
   ],
   "source": [
    "if not len(cms) == 0:\n",
    "    print( \"The position of the current element is: \", cms[0].get_pos() )\n",
    "    print( \"The magnitude of the current element is: \", cms[0].get_magnitude() )\n",
    "else:\n",
    "    print( \"No Concentrated Moments\" )"
   ]
  },
  {
   "cell_type": "code",
   "execution_count": 6,
   "metadata": {},
   "outputs": [
    {
     "data": {
      "text/html": [
       "<script>\n",
       "code_show=true; \n",
       "function code_toggle() {\n",
       "    if (code_show){\n",
       "    $('div.input').hide();\n",
       "    } else {\n",
       "    $('div.input').show();\n",
       "    }\n",
       "    code_show = !code_show\n",
       "} \n",
       "$( document ).ready(code_toggle);\n",
       "</script>\n",
       "<form action=\"javascript:code_toggle()\"><input type=\"submit\" value=\"Developer Button\"></form>"
      ],
      "text/plain": [
       "<IPython.core.display.HTML object>"
      ]
     },
     "execution_count": 6,
     "metadata": {},
     "output_type": "execute_result"
    }
   ],
   "source": [
    "from IPython.display import HTML\n",
    "HTML('''<script>\n",
    "code_show=true; \n",
    "function code_toggle() {\n",
    "    if (code_show){\n",
    "    $('div.input').hide();\n",
    "    } else {\n",
    "    $('div.input').show();\n",
    "    }\n",
    "    code_show = !code_show\n",
    "} \n",
    "$( document ).ready(code_toggle);\n",
    "</script>\n",
    "<form action=\"javascript:code_toggle()\"><input type=\"submit\" value=\"Developer Button\"></form>''')"
   ]
  },
  {
   "cell_type": "code",
   "execution_count": null,
   "metadata": {},
   "outputs": [],
   "source": []
  }
 ],
 "metadata": {
  "kernelspec": {
   "display_name": "Python 3",
   "language": "python",
   "name": "python3"
  },
  "language_info": {
   "codemirror_mode": {
    "name": "ipython",
    "version": 3
   },
   "file_extension": ".py",
   "mimetype": "text/x-python",
   "name": "python",
   "nbconvert_exporter": "python",
   "pygments_lexer": "ipython3",
   "version": "3.7.4"
  }
 },
 "nbformat": 4,
 "nbformat_minor": 4
}
